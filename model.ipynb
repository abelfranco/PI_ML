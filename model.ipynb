{
 "cells": [
  {
   "cell_type": "code",
   "execution_count": 1,
   "metadata": {},
   "outputs": [],
   "source": [
    "import pandas as pd\n",
    "import numpy  as np\n",
    "\n",
    "from fastapi import FastAPI\n",
    "\n",
    "import uvicorn\n",
    "\n",
    "from sklearn.metrics.pairwise        import cosine_similarity\n",
    "from sklearn.utils.extmath           import randomized_svd\n",
    "from sklearn.feature_extraction.text import TfidfVectorizer\n",
    "from sklearn.metrics.pairwise        import linear_kernel\n",
    "\n",
    "\n",
    "df = pd.read_csv(\"data_set/ds_model.csv\")"
   ]
  },
  {
   "cell_type": "code",
   "execution_count": 2,
   "metadata": {},
   "outputs": [
    {
     "name": "stdout",
     "output_type": "stream",
     "text": [
      "<class 'pandas.core.frame.DataFrame'>\n",
      "RangeIndex: 42195 entries, 0 to 42194\n",
      "Data columns (total 3 columns):\n",
      " #   Column      Non-Null Count  Dtype  \n",
      "---  ------      --------------  -----  \n",
      " 0   overview    42195 non-null  object \n",
      " 1   popularity  42195 non-null  float64\n",
      " 2   title       42195 non-null  object \n",
      "dtypes: float64(1), object(2)\n",
      "memory usage: 989.1+ KB\n"
     ]
    }
   ],
   "source": [
    "df.info()"
   ]
  },
  {
   "cell_type": "code",
   "execution_count": 3,
   "metadata": {},
   "outputs": [
    {
     "name": "stdout",
     "output_type": "stream",
     "text": [
      "['Led', 'by', 'Woody', ',', 'Andy', \"'s\", 'toys', 'live', 'happily', 'in', 'his', '...']\n"
     ]
    },
    {
     "name": "stderr",
     "output_type": "stream",
     "text": [
      "[nltk_data] Downloading package punkt to\n",
      "[nltk_data]     C:\\Users\\USUARIO\\AppData\\Roaming\\nltk_data...\n",
      "[nltk_data]   Package punkt is already up-to-date!\n"
     ]
    }
   ],
   "source": [
    "import nltk\n",
    "from nltk.tokenize import word_tokenize\n",
    "\n",
    "# Descargar los recursos necesarios de NLTK (ejecutar solo una vez)\n",
    "nltk.download('punkt')\n",
    "\n",
    "# Muestra de datos\n",
    "overview_sample = \"Led by Woody, Andy's toys live happily in his ...\"\n",
    "\n",
    "# Tokenización de la muestra\n",
    "tokens = word_tokenize(overview_sample)\n",
    "\n",
    "# Imprimir los tokens\n",
    "print(tokens)"
   ]
  },
  {
   "cell_type": "code",
   "execution_count": 4,
   "metadata": {},
   "outputs": [
    {
     "name": "stderr",
     "output_type": "stream",
     "text": [
      "[nltk_data] Downloading package punkt to\n",
      "[nltk_data]     C:\\Users\\USUARIO\\AppData\\Roaming\\nltk_data...\n",
      "[nltk_data]   Package punkt is already up-to-date!\n"
     ]
    }
   ],
   "source": [
    "# Descargar los recursos necesarios de NLTK (ejecutar solo una vez)\n",
    "nltk.download('punkt')\n",
    "\n",
    "# Tokenización de la columna \"overview\"\n",
    "df['overview_tokens'] = df['overview'].apply(lambda x: word_tokenize(str(x)))\n",
    "\n",
    "# Tokenización de la columna \"title\"\n",
    "df['title_tokens'] = df['title'].apply(lambda x: word_tokenize(str(x)))"
   ]
  },
  {
   "cell_type": "markdown",
   "metadata": {},
   "source": [
    "Ahora para la columna 'title'"
   ]
  },
  {
   "cell_type": "code",
   "execution_count": 5,
   "metadata": {},
   "outputs": [
    {
     "data": {
      "text/html": [
       "<div>\n",
       "<style scoped>\n",
       "    .dataframe tbody tr th:only-of-type {\n",
       "        vertical-align: middle;\n",
       "    }\n",
       "\n",
       "    .dataframe tbody tr th {\n",
       "        vertical-align: top;\n",
       "    }\n",
       "\n",
       "    .dataframe thead th {\n",
       "        text-align: right;\n",
       "    }\n",
       "</style>\n",
       "<table border=\"1\" class=\"dataframe\">\n",
       "  <thead>\n",
       "    <tr style=\"text-align: right;\">\n",
       "      <th></th>\n",
       "      <th>overview</th>\n",
       "      <th>popularity</th>\n",
       "      <th>title</th>\n",
       "      <th>overview_tokens</th>\n",
       "      <th>title_tokens</th>\n",
       "    </tr>\n",
       "  </thead>\n",
       "  <tbody>\n",
       "    <tr>\n",
       "      <th>0</th>\n",
       "      <td>Led by Woody, Andy's toys live happily in his ...</td>\n",
       "      <td>21.946943</td>\n",
       "      <td>Toy Story</td>\n",
       "      <td>[Led, by, Woody, ,, Andy, 's, toys, live, happ...</td>\n",
       "      <td>[Toy, Story]</td>\n",
       "    </tr>\n",
       "    <tr>\n",
       "      <th>1</th>\n",
       "      <td>When siblings Judy and Peter discover an encha...</td>\n",
       "      <td>17.015539</td>\n",
       "      <td>Jumanji</td>\n",
       "      <td>[When, siblings, Judy, and, Peter, discover, a...</td>\n",
       "      <td>[Jumanji]</td>\n",
       "    </tr>\n",
       "    <tr>\n",
       "      <th>2</th>\n",
       "      <td>A family wedding reignites the ancient feud be...</td>\n",
       "      <td>11.712900</td>\n",
       "      <td>Grumpier Old Men</td>\n",
       "      <td>[A, family, wedding, reignites, the, ancient, ...</td>\n",
       "      <td>[Grumpier, Old, Men]</td>\n",
       "    </tr>\n",
       "    <tr>\n",
       "      <th>3</th>\n",
       "      <td>Cheated on, mistreated and stepped on, the wom...</td>\n",
       "      <td>3.859495</td>\n",
       "      <td>Waiting to Exhale</td>\n",
       "      <td>[Cheated, on, ,, mistreated, and, stepped, on,...</td>\n",
       "      <td>[Waiting, to, Exhale]</td>\n",
       "    </tr>\n",
       "    <tr>\n",
       "      <th>4</th>\n",
       "      <td>Just when George Banks has recovered from his ...</td>\n",
       "      <td>8.387519</td>\n",
       "      <td>Father of the Bride Part II</td>\n",
       "      <td>[Just, when, George, Banks, has, recovered, fr...</td>\n",
       "      <td>[Father, of, the, Bride, Part, II]</td>\n",
       "    </tr>\n",
       "    <tr>\n",
       "      <th>...</th>\n",
       "      <td>...</td>\n",
       "      <td>...</td>\n",
       "      <td>...</td>\n",
       "      <td>...</td>\n",
       "      <td>...</td>\n",
       "    </tr>\n",
       "    <tr>\n",
       "      <th>42190</th>\n",
       "      <td>A film archivist revisits the story of Rustin ...</td>\n",
       "      <td>0.386450</td>\n",
       "      <td>The Burkittsville 7</td>\n",
       "      <td>[A, film, archivist, revisits, the, story, of,...</td>\n",
       "      <td>[The, Burkittsville, 7]</td>\n",
       "    </tr>\n",
       "    <tr>\n",
       "      <th>42191</th>\n",
       "      <td>It's the year 3000 AD. The world's most danger...</td>\n",
       "      <td>0.661558</td>\n",
       "      <td>Caged Heat 3000</td>\n",
       "      <td>[It, 's, the, year, 3000, AD, ., The, world, '...</td>\n",
       "      <td>[Caged, Heat, 3000]</td>\n",
       "    </tr>\n",
       "    <tr>\n",
       "      <th>42192</th>\n",
       "      <td>An artist struggles to finish his work while a...</td>\n",
       "      <td>0.178241</td>\n",
       "      <td>Century of Birthing</td>\n",
       "      <td>[An, artist, struggles, to, finish, his, work,...</td>\n",
       "      <td>[Century, of, Birthing]</td>\n",
       "    </tr>\n",
       "    <tr>\n",
       "      <th>42193</th>\n",
       "      <td>In a small town live two brothers, one a minis...</td>\n",
       "      <td>0.003503</td>\n",
       "      <td>Satan Triumphant</td>\n",
       "      <td>[In, a, small, town, live, two, brothers, ,, o...</td>\n",
       "      <td>[Satan, Triumphant]</td>\n",
       "    </tr>\n",
       "    <tr>\n",
       "      <th>42194</th>\n",
       "      <td>50 years after decriminalisation of homosexual...</td>\n",
       "      <td>0.163015</td>\n",
       "      <td>Queerama</td>\n",
       "      <td>[50, years, after, decriminalisation, of, homo...</td>\n",
       "      <td>[Queerama]</td>\n",
       "    </tr>\n",
       "  </tbody>\n",
       "</table>\n",
       "<p>42195 rows × 5 columns</p>\n",
       "</div>"
      ],
      "text/plain": [
       "                                                overview  popularity  \\\n",
       "0      Led by Woody, Andy's toys live happily in his ...   21.946943   \n",
       "1      When siblings Judy and Peter discover an encha...   17.015539   \n",
       "2      A family wedding reignites the ancient feud be...   11.712900   \n",
       "3      Cheated on, mistreated and stepped on, the wom...    3.859495   \n",
       "4      Just when George Banks has recovered from his ...    8.387519   \n",
       "...                                                  ...         ...   \n",
       "42190  A film archivist revisits the story of Rustin ...    0.386450   \n",
       "42191  It's the year 3000 AD. The world's most danger...    0.661558   \n",
       "42192  An artist struggles to finish his work while a...    0.178241   \n",
       "42193  In a small town live two brothers, one a minis...    0.003503   \n",
       "42194  50 years after decriminalisation of homosexual...    0.163015   \n",
       "\n",
       "                             title  \\\n",
       "0                        Toy Story   \n",
       "1                          Jumanji   \n",
       "2                 Grumpier Old Men   \n",
       "3                Waiting to Exhale   \n",
       "4      Father of the Bride Part II   \n",
       "...                            ...   \n",
       "42190          The Burkittsville 7   \n",
       "42191              Caged Heat 3000   \n",
       "42192          Century of Birthing   \n",
       "42193             Satan Triumphant   \n",
       "42194                     Queerama   \n",
       "\n",
       "                                         overview_tokens  \\\n",
       "0      [Led, by, Woody, ,, Andy, 's, toys, live, happ...   \n",
       "1      [When, siblings, Judy, and, Peter, discover, a...   \n",
       "2      [A, family, wedding, reignites, the, ancient, ...   \n",
       "3      [Cheated, on, ,, mistreated, and, stepped, on,...   \n",
       "4      [Just, when, George, Banks, has, recovered, fr...   \n",
       "...                                                  ...   \n",
       "42190  [A, film, archivist, revisits, the, story, of,...   \n",
       "42191  [It, 's, the, year, 3000, AD, ., The, world, '...   \n",
       "42192  [An, artist, struggles, to, finish, his, work,...   \n",
       "42193  [In, a, small, town, live, two, brothers, ,, o...   \n",
       "42194  [50, years, after, decriminalisation, of, homo...   \n",
       "\n",
       "                             title_tokens  \n",
       "0                            [Toy, Story]  \n",
       "1                               [Jumanji]  \n",
       "2                    [Grumpier, Old, Men]  \n",
       "3                   [Waiting, to, Exhale]  \n",
       "4      [Father, of, the, Bride, Part, II]  \n",
       "...                                   ...  \n",
       "42190             [The, Burkittsville, 7]  \n",
       "42191                 [Caged, Heat, 3000]  \n",
       "42192             [Century, of, Birthing]  \n",
       "42193                 [Satan, Triumphant]  \n",
       "42194                          [Queerama]  \n",
       "\n",
       "[42195 rows x 5 columns]"
      ]
     },
     "execution_count": 5,
     "metadata": {},
     "output_type": "execute_result"
    }
   ],
   "source": [
    "df"
   ]
  },
  {
   "cell_type": "code",
   "execution_count": 6,
   "metadata": {},
   "outputs": [],
   "source": [
    "from sklearn.feature_extraction.text import CountVectorizer\n",
    "\n",
    "# Reemplazar los valores nulos en la columna 'overview' con un valor predeterminado\n",
    "df['overview'].fillna('Sin descripción', inplace=True)\n",
    "\n",
    "# Crear una instancia del vectorizador de Bolsa de Palabras con límite máximo de características\n",
    "vectorizer = CountVectorizer(max_features=100)\n",
    "\n",
    "# Realizar la tokenización y vectorización de la columna 'overview'\n",
    "overview_vectors = vectorizer.fit_transform(df['overview_tokens'].apply(lambda x: ' '.join(x)))\n",
    "\n",
    "# Crear el DataFrame con los vectores de Bolsa de Palabras\n",
    "overview_df = pd.DataFrame(overview_vectors.toarray(), columns=vectorizer.get_feature_names_out())\n",
    "\n",
    "# Concatenar el DataFrame de características con el DataFrame original\n",
    "df_with_features = pd.concat([df, overview_df], axis=1)\n"
   ]
  },
  {
   "cell_type": "code",
   "execution_count": 7,
   "metadata": {},
   "outputs": [
    {
     "name": "stdout",
     "output_type": "stream",
     "text": [
      "<class 'pandas.core.frame.DataFrame'>\n",
      "RangeIndex: 42195 entries, 0 to 42194\n",
      "Data columns (total 100 columns):\n",
      " #   Column    Non-Null Count  Dtype\n",
      "---  ------    --------------  -----\n",
      " 0   about     42195 non-null  int64\n",
      " 1   after     42195 non-null  int64\n",
      " 2   all       42195 non-null  int64\n",
      " 3   an        42195 non-null  int64\n",
      " 4   and       42195 non-null  int64\n",
      " 5   are       42195 non-null  int64\n",
      " 6   as        42195 non-null  int64\n",
      " 7   at        42195 non-null  int64\n",
      " 8   back      42195 non-null  int64\n",
      " 9   be        42195 non-null  int64\n",
      " 10  been      42195 non-null  int64\n",
      " 11  between   42195 non-null  int64\n",
      " 12  but       42195 non-null  int64\n",
      " 13  by        42195 non-null  int64\n",
      " 14  can       42195 non-null  int64\n",
      " 15  daughter  42195 non-null  int64\n",
      " 16  day       42195 non-null  int64\n",
      " 17  during    42195 non-null  int64\n",
      " 18  family    42195 non-null  int64\n",
      " 19  father    42195 non-null  int64\n",
      " 20  film      42195 non-null  int64\n",
      " 21  find      42195 non-null  int64\n",
      " 22  finds     42195 non-null  int64\n",
      " 23  first     42195 non-null  int64\n",
      " 24  for       42195 non-null  int64\n",
      " 25  friend    42195 non-null  int64\n",
      " 26  friends   42195 non-null  int64\n",
      " 27  from      42195 non-null  int64\n",
      " 28  get       42195 non-null  int64\n",
      " 29  girl      42195 non-null  int64\n",
      " 30  has       42195 non-null  int64\n",
      " 31  have      42195 non-null  int64\n",
      " 32  he        42195 non-null  int64\n",
      " 33  help      42195 non-null  int64\n",
      " 34  her       42195 non-null  int64\n",
      " 35  him       42195 non-null  int64\n",
      " 36  himself   42195 non-null  int64\n",
      " 37  his       42195 non-null  int64\n",
      " 38  home      42195 non-null  int64\n",
      " 39  in        42195 non-null  int64\n",
      " 40  into      42195 non-null  int64\n",
      " 41  is        42195 non-null  int64\n",
      " 42  it        42195 non-null  int64\n",
      " 43  life      42195 non-null  int64\n",
      " 44  lives     42195 non-null  int64\n",
      " 45  love      42195 non-null  int64\n",
      " 46  man       42195 non-null  int64\n",
      " 47  more      42195 non-null  int64\n",
      " 48  mother    42195 non-null  int64\n",
      " 49  must      42195 non-null  int64\n",
      " 50  new       42195 non-null  int64\n",
      " 51  not       42195 non-null  int64\n",
      " 52  of        42195 non-null  int64\n",
      " 53  old       42195 non-null  int64\n",
      " 54  on        42195 non-null  int64\n",
      " 55  one       42195 non-null  int64\n",
      " 56  only      42195 non-null  int64\n",
      " 57  or        42195 non-null  int64\n",
      " 58  other     42195 non-null  int64\n",
      " 59  out       42195 non-null  int64\n",
      " 60  over      42195 non-null  int64\n",
      " 61  own       42195 non-null  int64\n",
      " 62  people    42195 non-null  int64\n",
      " 63  school    42195 non-null  int64\n",
      " 64  she       42195 non-null  int64\n",
      " 65  so        42195 non-null  int64\n",
      " 66  son       42195 non-null  int64\n",
      " 67  story     42195 non-null  int64\n",
      " 68  takes     42195 non-null  int64\n",
      " 69  that      42195 non-null  int64\n",
      " 70  the       42195 non-null  int64\n",
      " 71  their     42195 non-null  int64\n",
      " 72  them      42195 non-null  int64\n",
      " 73  there     42195 non-null  int64\n",
      " 74  they      42195 non-null  int64\n",
      " 75  this      42195 non-null  int64\n",
      " 76  three     42195 non-null  int64\n",
      " 77  through   42195 non-null  int64\n",
      " 78  time      42195 non-null  int64\n",
      " 79  to        42195 non-null  int64\n",
      " 80  town      42195 non-null  int64\n",
      " 81  two       42195 non-null  int64\n",
      " 82  up        42195 non-null  int64\n",
      " 83  war       42195 non-null  int64\n",
      " 84  was       42195 non-null  int64\n",
      " 85  way       42195 non-null  int64\n",
      " 86  what      42195 non-null  int64\n",
      " 87  when      42195 non-null  int64\n",
      " 88  where     42195 non-null  int64\n",
      " 89  which     42195 non-null  int64\n",
      " 90  while     42195 non-null  int64\n",
      " 91  who       42195 non-null  int64\n",
      " 92  wife      42195 non-null  int64\n",
      " 93  will      42195 non-null  int64\n",
      " 94  with      42195 non-null  int64\n",
      " 95  woman     42195 non-null  int64\n",
      " 96  world     42195 non-null  int64\n",
      " 97  year      42195 non-null  int64\n",
      " 98  years     42195 non-null  int64\n",
      " 99  young     42195 non-null  int64\n",
      "dtypes: int64(100)\n",
      "memory usage: 32.2 MB\n"
     ]
    }
   ],
   "source": [
    "overview_df.info()"
   ]
  },
  {
   "cell_type": "code",
   "execution_count": 8,
   "metadata": {},
   "outputs": [
    {
     "name": "stdout",
     "output_type": "stream",
     "text": [
      "<class 'pandas.core.frame.DataFrame'>\n",
      "RangeIndex: 42195 entries, 0 to 42194\n",
      "Columns: 105 entries, overview to young\n",
      "dtypes: float64(1), int64(100), object(4)\n",
      "memory usage: 33.8+ MB\n"
     ]
    }
   ],
   "source": [
    "df_with_features.info()"
   ]
  },
  {
   "cell_type": "code",
   "execution_count": 12,
   "metadata": {},
   "outputs": [
    {
     "name": "stderr",
     "output_type": "stream",
     "text": [
      "h:\\Henry_bootcamp\\PI_1\\venv\\Lib\\site-packages\\sklearn\\utils\\extmath.py:193: RuntimeWarning: invalid value encountered in matmul\n",
      "  ret = a @ b\n"
     ]
    }
   ],
   "source": [
    "from sklearn.metrics.pairwise import cosine_similarity\n",
    "\n",
    "# Calcular la similitud del coseno entre las películas\n",
    "similarity_matrix = cosine_similarity(overview_df)\n",
    "\n"
   ]
  },
  {
   "cell_type": "code",
   "execution_count": 14,
   "metadata": {},
   "outputs": [
    {
     "data": {
      "text/plain": [
       "(42195, 42195)"
      ]
     },
     "execution_count": 14,
     "metadata": {},
     "output_type": "execute_result"
    }
   ],
   "source": [
    "similarity_matrix.shape\n"
   ]
  },
  {
   "cell_type": "code",
   "execution_count": 15,
   "metadata": {},
   "outputs": [
    {
     "data": {
      "text/plain": [
       "array([[1.        , 0.4451741 , 0.48261709, ..., 0.48653363, 0.64936449,\n",
       "        0.61487546],\n",
       "       [0.4451741 , 1.        , 0.42355872, ..., 0.20333143, 0.56656831,\n",
       "        0.51714781],\n",
       "       [0.48261709, 0.42355872, 1.        , ..., 0.1028689 , 0.69973089,\n",
       "        0.63702206],\n",
       "       ...,\n",
       "       [0.48653363, 0.20333143, 0.1028689 , ..., 1.        , 0.29139113,\n",
       "        0.14744196],\n",
       "       [0.64936449, 0.56656831, 0.69973089, ..., 0.29139113, 1.        ,\n",
       "        0.82167269],\n",
       "       [0.61487546, 0.51714781, 0.63702206, ..., 0.14744196, 0.82167269,\n",
       "        1.        ]])"
      ]
     },
     "execution_count": 15,
     "metadata": {},
     "output_type": "execute_result"
    }
   ],
   "source": [
    "similarity_matrix"
   ]
  },
  {
   "cell_type": "code",
   "execution_count": 10,
   "metadata": {},
   "outputs": [],
   "source": [
    "def obtener_recomendaciones(nombre_pelicula):\n",
    "    # Obtener el índice de la película de referencia\n",
    "    indice_pelicula = df[df['title'] == nombre_pelicula].index[0]\n",
    "    \n",
    "    # Obtener la fila correspondiente a la película de referencia en la matriz de similitud\n",
    "    similitudes_pelicula = similarity_matrix[indice_pelicula]\n",
    "    \n",
    "    # Obtener los índices de las 5 películas más similares (excluyendo la película de referencia)\n",
    "    indices_recomendadas = similitudes_pelicula.argsort()[-6:-1][::-1]\n",
    "    \n",
    "    # Crear una lista con los títulos de las películas recomendadas\n",
    "    peliculas_recomendadas = []\n",
    "    for indice in indices_recomendadas:\n",
    "        titulo = df.loc[indice, 'title']\n",
    "        peliculas_recomendadas.append(titulo)\n",
    "    \n",
    "    return peliculas_recomendadas"
   ]
  },
  {
   "cell_type": "code",
   "execution_count": 11,
   "metadata": {},
   "outputs": [
    {
     "name": "stdout",
     "output_type": "stream",
     "text": [
      "['Ugetsu', 'Time Of My Life', \"Thrashin'\", 'Grave of the Fireflies', 'Rams']\n"
     ]
    }
   ],
   "source": [
    "pelicula_referencia = \"Toy Story\"\n",
    "recomendaciones = obtener_recomendaciones(pelicula_referencia)\n",
    "\n",
    "print(recomendaciones)"
   ]
  }
 ],
 "metadata": {
  "kernelspec": {
   "display_name": "venv",
   "language": "python",
   "name": "python3"
  },
  "language_info": {
   "codemirror_mode": {
    "name": "ipython",
    "version": 3
   },
   "file_extension": ".py",
   "mimetype": "text/x-python",
   "name": "python",
   "nbconvert_exporter": "python",
   "pygments_lexer": "ipython3",
   "version": "3.11.3"
  },
  "orig_nbformat": 4
 },
 "nbformat": 4,
 "nbformat_minor": 2
}
