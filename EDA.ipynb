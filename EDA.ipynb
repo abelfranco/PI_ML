{
 "cells": [
  {
   "cell_type": "markdown",
   "metadata": {},
   "source": [
    "# EDA\n",
    "#### Análisis Exploratorio de los Datos para la elección un Modelo de Clasificación de un Sistema de Recomendación de Peliculas por Similaridad"
   ]
  },
  {
   "cell_type": "markdown",
   "metadata": {},
   "source": [
    "### Indice:\n",
    "1. Introducción\n",
    "2. Objetivos\n",
    "3. Estadística Descriptiva\n",
    "4. Tratamiento de Outliers\n",
    "5. Agrupación de datos\n",
    "6. Control de valores NAN\n",
    "7. Análisis de correlación Lineal y Polinómico\n",
    "8. Similaridad por puntuación de películas\n",
    "8. Nubes de Palabras para los títulos de peliculas\n",
    "9. Determinación de Variables reelevantes\n",
    "10. Determinación del Modelo factible\n",
    "12. Similitud del coseno\n",
    "11. Conclusiones"
   ]
  },
  {
   "cell_type": "markdown",
   "metadata": {},
   "source": [
    "### 1. Introducción\n",
    "##### El presente notebook trata acerca del análisis estadístico de los datos que nos permitirá sacar inferencias e hipotesis para un modelo de clasificación \n",
    "##### Se trabajará con datos de Features de películas, en el cual se extraerán patrones y hallazgos para tener una mayor comprensión de los mismos."
   ]
  },
  {
   "cell_type": "markdown",
   "metadata": {},
   "source": [
    "### 2. Objetivos\n",
    "##### 2.1 Determinar patrones y variables reelevantes en los datos\n",
    "##### 2.2 Determinar los posibles modelos de clasificación \n",
    "##### 2.3 Sustentar las variables involucradas para el modelo de clasificación más factible"
   ]
  },
  {
   "cell_type": "markdown",
   "metadata": {},
   "source": [
    "## 1.  Estadística Descriptiva"
   ]
  },
  {
   "cell_type": "code",
   "execution_count": 36,
   "metadata": {},
   "outputs": [],
   "source": [
    "# Se importan las bibliotecas\n",
    "import pandas as pd\n",
    "import numpy as np\n",
    "import seaborn as sns\n",
    "import matplotlib.pyplot as plt\n",
    "import scipy.stats as stats "
   ]
  },
  {
   "cell_type": "code",
   "execution_count": 55,
   "metadata": {},
   "outputs": [],
   "source": [
    "# Se ingesta el dataset preprocesado\n",
    "df = pd.read_csv('data_set/ds_clean.csv')"
   ]
  },
  {
   "cell_type": "markdown",
   "metadata": {},
   "source": [
    "##### Se filtrarán las columnas con los siguientes criterios: #\n",
    "- Las variables tienen que aportar información acerca de la naturaleza del contenido de cada película\n",
    "- Las variables tienen que explicar con cierto grado la similaridad de contenido entre las películas"
   ]
  },
  {
   "cell_type": "code",
   "execution_count": 56,
   "metadata": {},
   "outputs": [],
   "source": [
    "# Se filtran columnas innecesarias\n",
    "df = df.drop('id', axis = 1)"
   ]
  },
  {
   "cell_type": "code",
   "execution_count": 57,
   "metadata": {},
   "outputs": [],
   "source": [
    "# Reducción de dimencionalidad\n",
    "df = df.drop('revenue', axis = 1)\n",
    "df = df.drop('release_year', axis = 1)\n",
    "df = df.drop('release_date', axis = 1)\n",
    "df = df.drop('budget', axis = 1)\n",
    "df = df.drop('original_language', axis = 1)\n",
    "df = df.drop('runtime', axis = 1)\n",
    "df = df.drop('production_countries', axis = 1)\n",
    "df = df.drop('spoken_languages', axis = 1)\n",
    "df = df.drop('status', axis =1)\n",
    "df = df.drop('return', axis =1)"
   ]
  },
  {
   "cell_type": "code",
   "execution_count": 58,
   "metadata": {},
   "outputs": [
    {
     "name": "stdout",
     "output_type": "stream",
     "text": [
      "<class 'pandas.core.frame.DataFrame'>\n",
      "RangeIndex: 45451 entries, 0 to 45450\n",
      "Data columns (total 12 columns):\n",
      " #   Column                 Non-Null Count  Dtype  \n",
      "---  ------                 --------------  -----  \n",
      " 0   belongs_to_collection  4497 non-null   object \n",
      " 1   genres                 43067 non-null  object \n",
      " 2   overview               44510 non-null  object \n",
      " 3   popularity             45451 non-null  float64\n",
      " 4   production_companies   33634 non-null  object \n",
      " 5   tagline                20425 non-null  object \n",
      " 6   title                  45451 non-null  object \n",
      " 7   vote_average           45451 non-null  float64\n",
      " 8   vote_count             45451 non-null  float64\n",
      " 9   cast                   43097 non-null  object \n",
      " 10  crew                   44728 non-null  object \n",
      " 11  director               44728 non-null  object \n",
      "dtypes: float64(3), object(9)\n",
      "memory usage: 4.2+ MB\n"
     ]
    }
   ],
   "source": [
    "df.info()"
   ]
  },
  {
   "cell_type": "code",
   "execution_count": 59,
   "metadata": {},
   "outputs": [
    {
     "data": {
      "text/html": [
       "<div>\n",
       "<style scoped>\n",
       "    .dataframe tbody tr th:only-of-type {\n",
       "        vertical-align: middle;\n",
       "    }\n",
       "\n",
       "    .dataframe tbody tr th {\n",
       "        vertical-align: top;\n",
       "    }\n",
       "\n",
       "    .dataframe thead th {\n",
       "        text-align: right;\n",
       "    }\n",
       "</style>\n",
       "<table border=\"1\" class=\"dataframe\">\n",
       "  <thead>\n",
       "    <tr style=\"text-align: right;\">\n",
       "      <th></th>\n",
       "      <th>popularity</th>\n",
       "      <th>vote_average</th>\n",
       "      <th>vote_count</th>\n",
       "    </tr>\n",
       "  </thead>\n",
       "  <tbody>\n",
       "    <tr>\n",
       "      <th>count</th>\n",
       "      <td>45451.000000</td>\n",
       "      <td>45451.000000</td>\n",
       "      <td>45451.000000</td>\n",
       "    </tr>\n",
       "    <tr>\n",
       "      <th>mean</th>\n",
       "      <td>2.926887</td>\n",
       "      <td>5.624085</td>\n",
       "      <td>109.989703</td>\n",
       "    </tr>\n",
       "    <tr>\n",
       "      <th>std</th>\n",
       "      <td>6.006458</td>\n",
       "      <td>1.915424</td>\n",
       "      <td>491.352336</td>\n",
       "    </tr>\n",
       "    <tr>\n",
       "      <th>min</th>\n",
       "      <td>0.000000</td>\n",
       "      <td>0.000000</td>\n",
       "      <td>0.000000</td>\n",
       "    </tr>\n",
       "    <tr>\n",
       "      <th>25%</th>\n",
       "      <td>0.389095</td>\n",
       "      <td>5.000000</td>\n",
       "      <td>3.000000</td>\n",
       "    </tr>\n",
       "    <tr>\n",
       "      <th>50%</th>\n",
       "      <td>1.131386</td>\n",
       "      <td>6.000000</td>\n",
       "      <td>10.000000</td>\n",
       "    </tr>\n",
       "    <tr>\n",
       "      <th>75%</th>\n",
       "      <td>3.694370</td>\n",
       "      <td>6.800000</td>\n",
       "      <td>34.000000</td>\n",
       "    </tr>\n",
       "    <tr>\n",
       "      <th>max</th>\n",
       "      <td>547.488298</td>\n",
       "      <td>10.000000</td>\n",
       "      <td>14075.000000</td>\n",
       "    </tr>\n",
       "  </tbody>\n",
       "</table>\n",
       "</div>"
      ],
      "text/plain": [
       "         popularity  vote_average    vote_count\n",
       "count  45451.000000  45451.000000  45451.000000\n",
       "mean       2.926887      5.624085    109.989703\n",
       "std        6.006458      1.915424    491.352336\n",
       "min        0.000000      0.000000      0.000000\n",
       "25%        0.389095      5.000000      3.000000\n",
       "50%        1.131386      6.000000     10.000000\n",
       "75%        3.694370      6.800000     34.000000\n",
       "max      547.488298     10.000000  14075.000000"
      ]
     },
     "execution_count": 59,
     "metadata": {},
     "output_type": "execute_result"
    }
   ],
   "source": [
    "# Medidas de Tendencia central de variables numéricas\n",
    "df.describe(include=[np.number])"
   ]
  },
  {
   "cell_type": "code",
   "execution_count": 60,
   "metadata": {},
   "outputs": [
    {
     "data": {
      "text/html": [
       "<div>\n",
       "<style scoped>\n",
       "    .dataframe tbody tr th:only-of-type {\n",
       "        vertical-align: middle;\n",
       "    }\n",
       "\n",
       "    .dataframe tbody tr th {\n",
       "        vertical-align: top;\n",
       "    }\n",
       "\n",
       "    .dataframe thead th {\n",
       "        text-align: right;\n",
       "    }\n",
       "</style>\n",
       "<table border=\"1\" class=\"dataframe\">\n",
       "  <thead>\n",
       "    <tr style=\"text-align: right;\">\n",
       "      <th></th>\n",
       "      <th>belongs_to_collection</th>\n",
       "      <th>genres</th>\n",
       "      <th>overview</th>\n",
       "      <th>production_companies</th>\n",
       "      <th>tagline</th>\n",
       "      <th>title</th>\n",
       "      <th>cast</th>\n",
       "      <th>crew</th>\n",
       "      <th>director</th>\n",
       "    </tr>\n",
       "  </thead>\n",
       "  <tbody>\n",
       "    <tr>\n",
       "      <th>count</th>\n",
       "      <td>4497</td>\n",
       "      <td>43067</td>\n",
       "      <td>44510</td>\n",
       "      <td>33634</td>\n",
       "      <td>20425</td>\n",
       "      <td>45451</td>\n",
       "      <td>43097</td>\n",
       "      <td>44728</td>\n",
       "      <td>44728</td>\n",
       "    </tr>\n",
       "    <tr>\n",
       "      <th>unique</th>\n",
       "      <td>1695</td>\n",
       "      <td>4064</td>\n",
       "      <td>44231</td>\n",
       "      <td>22666</td>\n",
       "      <td>20269</td>\n",
       "      <td>42195</td>\n",
       "      <td>42656</td>\n",
       "      <td>42908</td>\n",
       "      <td>20603</td>\n",
       "    </tr>\n",
       "    <tr>\n",
       "      <th>top</th>\n",
       "      <td>The Bowery Boys</td>\n",
       "      <td>Drama</td>\n",
       "      <td>No overview found.</td>\n",
       "      <td>Metro-Goldwyn-Mayer (MGM)</td>\n",
       "      <td>Which one is the first to return - memory or t...</td>\n",
       "      <td>Blackout</td>\n",
       "      <td>Georges Méliès</td>\n",
       "      <td>Georges Méliès</td>\n",
       "      <td>Avy Kaufman</td>\n",
       "    </tr>\n",
       "    <tr>\n",
       "      <th>freq</th>\n",
       "      <td>29</td>\n",
       "      <td>5006</td>\n",
       "      <td>133</td>\n",
       "      <td>742</td>\n",
       "      <td>9</td>\n",
       "      <td>13</td>\n",
       "      <td>24</td>\n",
       "      <td>35</td>\n",
       "      <td>124</td>\n",
       "    </tr>\n",
       "  </tbody>\n",
       "</table>\n",
       "</div>"
      ],
      "text/plain": [
       "       belongs_to_collection genres            overview  \\\n",
       "count                   4497  43067               44510   \n",
       "unique                  1695   4064               44231   \n",
       "top          The Bowery Boys  Drama  No overview found.   \n",
       "freq                      29   5006                 133   \n",
       "\n",
       "             production_companies  \\\n",
       "count                       33634   \n",
       "unique                      22666   \n",
       "top     Metro-Goldwyn-Mayer (MGM)   \n",
       "freq                          742   \n",
       "\n",
       "                                                  tagline     title  \\\n",
       "count                                               20425     45451   \n",
       "unique                                              20269     42195   \n",
       "top     Which one is the first to return - memory or t...  Blackout   \n",
       "freq                                                    9        13   \n",
       "\n",
       "                  cast            crew     director  \n",
       "count            43097           44728        44728  \n",
       "unique           42656           42908        20603  \n",
       "top     Georges Méliès  Georges Méliès  Avy Kaufman  \n",
       "freq                24              35          124  "
      ]
     },
     "execution_count": 60,
     "metadata": {},
     "output_type": "execute_result"
    }
   ],
   "source": [
    "# Caraterísticas de las variables numéricas categóricas\n",
    "df.describe(include=object)"
   ]
  },
  {
   "cell_type": "code",
   "execution_count": 53,
   "metadata": {},
   "outputs": [
    {
     "name": "stdout",
     "output_type": "stream",
     "text": [
      "<class 'pandas.core.frame.DataFrame'>\n",
      "RangeIndex: 45451 entries, 0 to 45450\n",
      "Data columns (total 11 columns):\n",
      " #   Column                 Non-Null Count  Dtype  \n",
      "---  ------                 --------------  -----  \n",
      " 0   belongs_to_collection  4497 non-null   object \n",
      " 1   genres                 43067 non-null  object \n",
      " 2   popularity             45451 non-null  float64\n",
      " 3   production_companies   33634 non-null  object \n",
      " 4   tagline                20425 non-null  object \n",
      " 5   title                  45451 non-null  object \n",
      " 6   vote_average           45451 non-null  float64\n",
      " 7   vote_count             45451 non-null  float64\n",
      " 8   cast                   43097 non-null  object \n",
      " 9   crew                   44728 non-null  object \n",
      " 10  director               44728 non-null  object \n",
      "dtypes: float64(3), object(8)\n",
      "memory usage: 3.8+ MB\n"
     ]
    }
   ],
   "source": [
    "df.info()"
   ]
  },
  {
   "cell_type": "code",
   "execution_count": 33,
   "metadata": {},
   "outputs": [
    {
     "data": {
      "text/plain": [
       "0        7.7\n",
       "1        6.9\n",
       "2        6.5\n",
       "3        6.1\n",
       "4        5.7\n",
       "        ... \n",
       "45446    5.7\n",
       "45447    9.0\n",
       "45448    3.8\n",
       "45449    0.0\n",
       "45450    0.0\n",
       "Name: vote_average, Length: 45451, dtype: float64"
      ]
     },
     "execution_count": 33,
     "metadata": {},
     "output_type": "execute_result"
    }
   ],
   "source": [
    "df['vote_average']"
   ]
  },
  {
   "cell_type": "code",
   "execution_count": 34,
   "metadata": {},
   "outputs": [
    {
     "data": {
      "text/plain": [
       "0        5415.0\n",
       "1        2413.0\n",
       "2          92.0\n",
       "3          34.0\n",
       "4         173.0\n",
       "          ...  \n",
       "45446      26.0\n",
       "45447       3.0\n",
       "45448       6.0\n",
       "45449       0.0\n",
       "45450       0.0\n",
       "Name: vote_count, Length: 45451, dtype: float64"
      ]
     },
     "execution_count": 34,
     "metadata": {},
     "output_type": "execute_result"
    }
   ],
   "source": [
    "df['vote_count']"
   ]
  }
 ],
 "metadata": {
  "kernelspec": {
   "display_name": "venv",
   "language": "python",
   "name": "python3"
  },
  "language_info": {
   "codemirror_mode": {
    "name": "ipython",
    "version": 3
   },
   "file_extension": ".py",
   "mimetype": "text/x-python",
   "name": "python",
   "nbconvert_exporter": "python",
   "pygments_lexer": "ipython3",
   "version": "3.11.3"
  },
  "orig_nbformat": 4
 },
 "nbformat": 4,
 "nbformat_minor": 2
}
